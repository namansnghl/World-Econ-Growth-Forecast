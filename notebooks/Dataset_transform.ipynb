{
  "cells": [
    {
      "cell_type": "markdown",
      "metadata": {
        "id": "Wc8P-hBdR4kw"
      },
      "source": [
        "### Data Import"
      ]
    },
    {
      "cell_type": "code",
      "execution_count": null,
      "metadata": {
        "id": "S64zYmOw4ynQ"
      },
      "outputs": [],
      "source": [
        "import pandas as pd\n",
        "import numpy as np"
      ]
    },
    {
      "cell_type": "code",
      "execution_count": null,
      "metadata": {
        "id": "HWHcjz1U42mz"
      },
      "outputs": [],
      "source": [
        "file_path = '../data/raw_data/IMF_WEO_Data.xlsx'\n",
        "\n",
        "# Read the Excel file\n",
        "df = pd.read_excel(file_path)"
      ]
    },
    {
      "cell_type": "markdown",
      "metadata": {
        "id": "eb44ZCtYSD4k"
      },
      "source": [
        "### Dropping irrelevant columns"
      ]
    },
    {
      "cell_type": "code",
      "execution_count": null,
      "metadata": {
        "id": "-rx2kldS67CO"
      },
      "outputs": [],
      "source": [
        "df.drop(columns=['WEO Subject Code','Country/Series-specific Notes','Estimates Start After'], inplace=True)"
      ]
    },
    {
      "cell_type": "code",
      "execution_count": null,
      "metadata": {
        "id": "u45toF7gH9Ju"
      },
      "outputs": [],
      "source": [
        "df['Subject'] = df.apply(lambda row: f\"{row['Subject Descriptor']} - {row['Units']} ({row['Scale']})\", axis=1)"
      ]
    },
    {
      "cell_type": "code",
      "execution_count": null,
      "metadata": {
        "id": "KutiFc6yIIZ-"
      },
      "outputs": [],
      "source": [
        "df.drop(columns=['Subject Descriptor','Units','Scale'], inplace=True)"
      ]
    },
    {
      "cell_type": "markdown",
      "metadata": {
        "id": "XQzO6uDqSRUc"
      },
      "source": [
        "### Converting null values to numeric"
      ]
    },
    {
      "cell_type": "code",
      "execution_count": null,
      "metadata": {
        "id": "jU7ZxzQBI0kR"
      },
      "outputs": [],
      "source": [
        "columns = ['WEO Country Code', 'Country', 'Subject'] + [col for col in df.columns if col not in ['WEO Country Code', 'Country', 'Subject']]\n",
        "df = df[columns]"
      ]
    },
    {
      "cell_type": "code",
      "execution_count": null,
      "metadata": {
        "id": "sFKvSQSZMwKZ"
      },
      "outputs": [],
      "source": [
        "df.replace([\"--\", \"na\", \"\"], np.nan, inplace=True)"
      ]
    },
    {
      "cell_type": "code",
      "execution_count": null,
      "metadata": {
        "id": "DWAkth3tNV9b"
      },
      "outputs": [],
      "source": [
        "df.iloc[:, 3:] = df.iloc[:, 3:].apply(pd.to_numeric)"
      ]
    },
    {
      "cell_type": "markdown",
      "metadata": {
        "id": "vK0IJx99SmIH"
      },
      "source": [
        "### Melting and Pivoting df"
      ]
    },
    {
      "cell_type": "code",
      "execution_count": null,
      "metadata": {
        "id": "q3RlaoKQJj5Y"
      },
      "outputs": [],
      "source": [
        "df_melted = pd.melt(df, id_vars=['WEO Country Code', 'Country', 'Subject'], var_name='Year', value_name='Value')"
      ]
    },
    {
      "cell_type": "code",
      "execution_count": null,
      "metadata": {
        "id": "63JQdQXfNtIR"
      },
      "outputs": [],
      "source": [
        "df_pivot = df_melted.pivot_table(index=['WEO Country Code', 'Country', 'Year'], columns='Subject', values='Value').reset_index()"
      ]
    },
    {
      "cell_type": "code",
      "execution_count": null,
      "metadata": {
        "id": "sw5uNMoHOGXs"
      },
      "outputs": [],
      "source": [
        "df_pivot.to_excel(\"Transformed.xlsx\", index=False)"
      ]
    }
  ],
  "metadata": {
    "colab": {
      "provenance": []
    },
    "kernelspec": {
      "display_name": "Python 3",
      "name": "python3"
    },
    "language_info": {
      "codemirror_mode": {
        "name": "ipython",
        "version": 3
      },
      "file_extension": ".py",
      "mimetype": "text/x-python",
      "name": "python",
      "nbconvert_exporter": "python",
      "pygments_lexer": "ipython3",
      "version": "3.11.1"
    }
  },
  "nbformat": 4,
  "nbformat_minor": 0
}
